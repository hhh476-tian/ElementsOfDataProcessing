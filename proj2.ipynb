{
 "cells": [
  {
   "cell_type": "code",
   "execution_count": 2,
   "metadata": {
    "scrolled": true
   },
   "outputs": [],
   "source": [
    "#import\n",
    "import pandas as pd\n",
    "import numpy as np\n",
    "import textdistance\n",
    "import matplotlib.pyplot as plt\n",
    "\n",
    "from sklearn import preprocessing\n",
    "from sklearn import neighbors\n",
    "from sklearn.model_selection import train_test_split\n",
    "from sklearn.metrics import accuracy_score\n",
    "from sklearn.tree import DecisionTreeClassifier\n",
    "from sklearn import metrics\n",
    "from sklearn.cluster import KMeans"
   ]
  },
  {
   "cell_type": "markdown",
   "metadata": {},
   "source": [
    "##### Part 1 \n",
    "Naive Linkage\n",
    "\n",
    "Comment:\n",
    "\n",
    "In this question, I put all possible pairs from two datasets into one table.\n",
    "And I add two columns at the end to show my prediction and the truth value.\n",
    "\n",
    "I choose jaccard as my similarity function from textdistance.\n",
    "I use it to compare the similarity on the title/name column in the two datasets.\n",
    "I set a score from the jaccard similairty for each pair.\n",
    "And I set the threshold to be 0.3 for determining whether a pair is a match.\n",
    "The reason why I choose the feature 'title' is that I find using it is more efficeint.(other features are a little bit noisy). I use jaccard as my similarity function because I find token based algorithms are more effective when comparing the titles. And I choose 0.3 to be the threshold after some trials.\n",
    "\n",
    "The overall performance is acceptable with a recall 0.75 and a precision 0.84"
   ]
  },
  {
   "cell_type": "code",
   "execution_count": 11,
   "metadata": {
    "scrolled": true
   },
   "outputs": [
    {
     "name": "stdout",
     "output_type": "stream",
     "text": [
      "***\n",
      "Part1 Naive Linkage\n",
      "recall: 0.79, precision: 0.75\n",
      "***\n"
     ]
    }
   ],
   "source": [
    "#Part 1\n",
    "#Naive Data Linkage\n",
    "\n",
    "#read data and rename columns\n",
    "amazon_small = pd.read_csv(\"amazon_small.csv\")\n",
    "amazon_columns_renaming_dict = {\"title\": \"amazon_title\", \n",
    "                                      \"description\": \"amazon_description\", \n",
    "                                      \"manufacturer\": \"amazon_manufacturer\",\n",
    "                                      \"price\": \"amazon_price\"}\n",
    "amazon_small.rename(columns=amazon_columns_renaming_dict, inplace=True)\n",
    "google_small = pd.read_csv(\"google_small.csv\")\n",
    "google_columns_renaming_dict = {\"name\": \"google_title\", \n",
    "                                      \"description\": \"google_description\", \n",
    "                                      \"manufacturer\": \"google_manufacturer\",\n",
    "                                      \"price\": \"google_price\"}\n",
    "google_small.rename(columns=google_columns_renaming_dict, inplace=True)\n",
    "truth_small = pd.read_csv(\"amazon_google_truth_small.csv\")\n",
    "\n",
    "#put all pairs of reocrds in two dataset into a table\n",
    "cross_product = amazon_small.assign(temp_key=1).merge(google_small.assign(temp_key=1)).drop(\"temp_key\", axis=1)\n",
    "\n",
    "#calculate the similarity score based on jaccard, and predict the records with a score above 0.25 to be a match\n",
    "cross_product[\"score\"] = cross_product.apply(lambda row: \n",
    "                                             textdistance.jaccard(\n",
    "                                             row[\"amazon_title\"].split(), row[\"google_title\"].split()), axis=1)\n",
    "\n",
    "cross_product[\"prediction\"] = cross_product.apply(lambda row: \n",
    "                                                  row[\"score\"] > 0.25, axis=1)\n",
    "\n",
    "#add the ground truth to the table to measure performance\n",
    "truth_small[\"truth\"] = True\n",
    "result = pd.merge(cross_product, truth_small, on=[\"idAmazon\", \"idGoogleBase\"], how='left')\n",
    "result[\"truth\"].fillna(False, inplace=True)\n",
    "\n",
    "tp = result[(result[\"prediction\"]==True) & (result[\"truth\"]==True)].shape[0]\n",
    "fn = result[(result[\"prediction\"]==False) & (result[\"truth\"]==True)].shape[0]\n",
    "fp = result[(result[\"prediction\"]==True) & (result[\"truth\"]==False)].shape[0]\n",
    "\n",
    "recall = tp/(tp+fn)\n",
    "precision = tp/(tp+fp)\n",
    "\n",
    "print(\"***\")\n",
    "print(\"Part1 Naive Linkage\")\n",
    "print(f\"recall: {recall:.2f}, precision: {precision:.2f}\")\n",
    "print(\"***\")"
   ]
  },
  {
   "cell_type": "markdown",
   "metadata": {},
   "source": [
    "Part 1\n",
    "Blocking\n",
    "\n",
    "Comment:\n",
    "I decide to only use the feature \"price\" to perform the blocking because I think it is the most obvious way to do it.\n",
    "I divide all items into different blocks according to their price range.\n",
    "I put all \"zero price\" items in amazon and \"missing price\" items in google into one block because I think maybe \"zero price\" and those missing values in price may mean the same thing.\n",
    "\n",
    "The quality of this blocking method is overall acceptable with pair completeness 0.76 and reduction ratio 0.8.\n",
    "If I reduce the price range in each block and thus increasing the number of blocks, the redcution ratio would increase and the pair completeness would decrease.\n",
    "But if I make larger blocks with each block covering a larger price range (reducing the number of blocks), the pair completeness would increase but at the same time reduction ratio would decrease.\n",
    "And after some experiments and trials, I decide that each block covers 20% of total price range.\n"
   ]
  },
  {
   "cell_type": "code",
   "execution_count": 3,
   "metadata": {
    "scrolled": false
   },
   "outputs": [
    {
     "name": "stdout",
     "output_type": "stream",
     "text": [
      "Pair completeness: 0.76\n",
      "Reduction Ratio: 0.80\n"
     ]
    }
   ],
   "source": [
    "#part1 blocking\n",
    "\n",
    "#read the data and convert format and rename\n",
    "amazon_big = pd.read_csv(\"amazon.csv\")\n",
    "google_big = pd.read_csv(\"google.csv\")\n",
    "truth_big = pd.read_csv(\"amazon_google_truth.csv\")\n",
    "amazon_big.rename(columns=amazon_columns_renaming_dict, inplace=True)\n",
    "google_big.rename(columns=google_columns_renaming_dict, inplace=True)\n",
    "google_big.rename(columns={\"id\": \"idGoogleBase\"}, inplace=True)\n",
    "google_big[\"google_price\"] = pd.to_numeric(google_big[\"google_price\"], errors='coerce')\n",
    "truth_big[\"truth\"] = True\n",
    "\n",
    "#find those zero price or no price items\n",
    "google_no_price = google_big[google_big[\"google_price\"].isnull()]\n",
    "google_have_price = google_big[google_big[\"google_price\"].isnull() == False]\n",
    "amazon_zero_price = amazon_big[amazon_big[\"amazon_price\"] < 0.01]\n",
    "amazon_have_price = amazon_big[amazon_big[\"amazon_price\"] > 0.01]\n",
    "\n",
    "#put them into one block\n",
    "priceblock0 = pd.merge(amazon_zero_price.assign(temp_key=1), google_no_price.assign(temp_key=1), on=\"temp_key\").drop(\"temp_key\", axis=1)\n",
    "priceblock0 = pd.merge(priceblock0, truth_big, on=[\"idAmazon\", \"idGoogleBase\"], how='left')\n",
    "priceblock0[\"truth\"].fillna(False, inplace=True)\n",
    "\n",
    "price_blockings = []\n",
    "price_blockings.append(priceblock0)\n",
    "\n",
    "#put rest of items into different blocks according to their price range\n",
    "for i in range(5):\n",
    "    low = amazon_have_price[\"amazon_price\"].quantile(q=(i*0.2))\n",
    "    high = amazon_have_price[\"amazon_price\"].quantile(q=(i*0.2+0.2))\n",
    "    \n",
    "    left = amazon_have_price[(low<=amazon_have_price[\"amazon_price\"]) & (amazon_have_price[\"amazon_price\"]<=high)]\n",
    "    right = google_have_price[(low<=google_have_price[\"google_price\"]) & (google_have_price[\"google_price\"]<=high)]\n",
    "    new_block = pd.merge(left.assign(temp_key=1), right.assign(temp_key=1), on=\"temp_key\").drop(\"temp_key\", axis=1)\n",
    "    new_block = pd.merge(new_block, truth_big, on=[\"idAmazon\", \"idGoogleBase\"], how='left')\n",
    "    new_block[\"truth\"].fillna(False, inplace=True)\n",
    "    price_blockings.append(new_block)\n",
    "\n",
    "#measure the performance of the blocking\n",
    "tp, fp = 0, 0\n",
    "for block in price_blockings:\n",
    "    tp += block[\"truth\"].value_counts().get(True, 0)\n",
    "    fp += block[\"truth\"].value_counts().get(False, 0)\n",
    "fn = truth_big.shape[0] - tp\n",
    "n = amazon_big.shape[0] * google_big.shape[0]\n",
    "\n",
    "pc = tp/(tp+fn)\n",
    "rr = 1 - (tp+fp)/n\n",
    "\n",
    "print(f\"Pair completeness: {pc:.2f}\")\n",
    "print(f\"Reduction Ratio: {rr:.2f}\")"
   ]
  },
  {
   "cell_type": "markdown",
   "metadata": {},
   "source": [
    "Part 2"
   ]
  },
  {
   "cell_type": "code",
   "execution_count": 4,
   "metadata": {
    "scrolled": true
   },
   "outputs": [
    {
     "name": "stdout",
     "output_type": "stream",
     "text": [
      "the min, median, max, mean and std when imputed by mean:\n",
      "             mcg       gvh       alm       mit       erl       pox       vac       nuc\n",
      "min     0.110000  0.130000  0.210000  0.000000  0.500000  0.000000  0.000000  0.000000\n",
      "median  0.499349  0.490000  0.510000  0.230000  0.500000  0.000000  0.510000  0.220000\n",
      "max     1.000000  1.000000  7.501819  3.000728  3.500849  0.830000  6.001456  4.501092\n",
      "mean    0.499349  0.499876  0.505848  0.264379  0.506921  0.007500  0.503816  0.279816\n",
      "std     0.131357  0.121945  0.199837  0.150286  0.091573  0.075683  0.153481  0.151736\n",
      "***************\n",
      "the min, median, max, mean and std when imputed by median:\n",
      "             mcg       gvh       alm       mit       erl       pox       vac       nuc\n",
      "min     0.110000  0.130000  0.210000  0.000000  0.500000  0.000000  0.000000  0.000000\n",
      "median  0.480000  0.490000  0.510000  0.220000  0.500000  0.000000  0.510000  0.220000\n",
      "max     1.000000  1.000000  7.501819  3.000728  3.500849  0.830000  6.001456  4.501092\n",
      "mean    0.497628  0.499643  0.506167  0.260432  0.506739  0.007500  0.504199  0.276712\n",
      "std     0.131472  0.121954  0.199840  0.150817  0.091580  0.075683  0.153488  0.152315\n"
     ]
    }
   ],
   "source": [
    "#preprocessing\n",
    "#open file\n",
    "all_yeast = pd.read_csv(\"all_yeast.csv\")\n",
    "\n",
    "#select only the features\n",
    "yeast_data = all_yeast.loc[:, 'mcg':'nuc']\n",
    "\n",
    "yeast_by_mean = yeast_data.fillna(all_yeast.mean())\n",
    "yeast_by_median = yeast_data.fillna(all_yeast.median())\n",
    "\n",
    "print(\"the min, median, max, mean and std when imputed by mean:\")\n",
    "print(yeast_by_mean.describe().rename({\"50%\": \"median\"}, axis=0) \\\n",
    "      .loc[[\"min\", \"median\", \"max\", \"mean\", \"std\"], \"mcg\":].to_string())\n",
    "print(\"***************\")\n",
    "print(\"the min, median, max, mean and std when imputed by median:\")\n",
    "print(yeast_by_median.describe().rename({\"50%\": \"median\"}, axis=0) \\\n",
    "      .loc[[\"min\", \"median\", \"max\", \"mean\", \"std\"], \"mcg\":].to_string())"
   ]
  },
  {
   "cell_type": "markdown",
   "metadata": {},
   "source": [
    "Comment on the method of imputation:\n",
    "\n",
    "The max or min values in some columns are clearly outliers, they deviate from the mean a lot.\n",
    "If input with mean, inputed values are likely to be affected by those outliers.\n",
    "So using median might be a better choice."
   ]
  },
  {
   "cell_type": "code",
   "execution_count": 5,
   "metadata": {
    "scrolled": false
   },
   "outputs": [
    {
     "name": "stdout",
     "output_type": "stream",
     "text": [
      "The min, median, max, mean and std when using mean centering:\n"
     ]
    },
    {
     "data": {
      "text/html": [
       "<div>\n",
       "<style scoped>\n",
       "    .dataframe tbody tr th:only-of-type {\n",
       "        vertical-align: middle;\n",
       "    }\n",
       "\n",
       "    .dataframe tbody tr th {\n",
       "        vertical-align: top;\n",
       "    }\n",
       "\n",
       "    .dataframe thead th {\n",
       "        text-align: right;\n",
       "    }\n",
       "</style>\n",
       "<table border=\"1\" class=\"dataframe\">\n",
       "  <thead>\n",
       "    <tr style=\"text-align: right;\">\n",
       "      <th></th>\n",
       "      <th>mcg</th>\n",
       "      <th>gvh</th>\n",
       "      <th>alm</th>\n",
       "      <th>mit</th>\n",
       "      <th>erl</th>\n",
       "      <th>pox</th>\n",
       "      <th>vac</th>\n",
       "      <th>nuc</th>\n",
       "    </tr>\n",
       "  </thead>\n",
       "  <tbody>\n",
       "    <tr>\n",
       "      <th>min</th>\n",
       "      <td>-3.876280e-01</td>\n",
       "      <td>-3.696429e-01</td>\n",
       "      <td>-2.961670e-01</td>\n",
       "      <td>-2.604318e-01</td>\n",
       "      <td>-6.739117e-03</td>\n",
       "      <td>-7.500000e-03</td>\n",
       "      <td>-5.041991e-01</td>\n",
       "      <td>-2.767123e-01</td>\n",
       "    </tr>\n",
       "    <tr>\n",
       "      <th>median</th>\n",
       "      <td>-1.762803e-02</td>\n",
       "      <td>-9.642857e-03</td>\n",
       "      <td>3.833006e-03</td>\n",
       "      <td>-4.043176e-02</td>\n",
       "      <td>-6.739117e-03</td>\n",
       "      <td>-7.500000e-03</td>\n",
       "      <td>5.800906e-03</td>\n",
       "      <td>-5.671233e-02</td>\n",
       "    </tr>\n",
       "    <tr>\n",
       "      <th>max</th>\n",
       "      <td>5.023720e-01</td>\n",
       "      <td>5.003571e-01</td>\n",
       "      <td>6.995652e+00</td>\n",
       "      <td>2.740296e+00</td>\n",
       "      <td>2.994110e+00</td>\n",
       "      <td>8.225000e-01</td>\n",
       "      <td>5.497256e+00</td>\n",
       "      <td>4.224379e+00</td>\n",
       "    </tr>\n",
       "    <tr>\n",
       "      <th>mean</th>\n",
       "      <td>-6.454855e-16</td>\n",
       "      <td>7.581911e-16</td>\n",
       "      <td>6.118571e-16</td>\n",
       "      <td>-1.108353e-15</td>\n",
       "      <td>3.112215e-17</td>\n",
       "      <td>2.783390e-17</td>\n",
       "      <td>1.846307e-15</td>\n",
       "      <td>-4.719364e-15</td>\n",
       "    </tr>\n",
       "    <tr>\n",
       "      <th>std</th>\n",
       "      <td>1.314724e-01</td>\n",
       "      <td>1.219545e-01</td>\n",
       "      <td>1.998397e-01</td>\n",
       "      <td>1.508169e-01</td>\n",
       "      <td>9.157975e-02</td>\n",
       "      <td>7.568267e-02</td>\n",
       "      <td>1.534880e-01</td>\n",
       "      <td>1.523150e-01</td>\n",
       "    </tr>\n",
       "  </tbody>\n",
       "</table>\n",
       "</div>"
      ],
      "text/plain": [
       "                 mcg           gvh           alm           mit           erl  \\\n",
       "min    -3.876280e-01 -3.696429e-01 -2.961670e-01 -2.604318e-01 -6.739117e-03   \n",
       "median -1.762803e-02 -9.642857e-03  3.833006e-03 -4.043176e-02 -6.739117e-03   \n",
       "max     5.023720e-01  5.003571e-01  6.995652e+00  2.740296e+00  2.994110e+00   \n",
       "mean   -6.454855e-16  7.581911e-16  6.118571e-16 -1.108353e-15  3.112215e-17   \n",
       "std     1.314724e-01  1.219545e-01  1.998397e-01  1.508169e-01  9.157975e-02   \n",
       "\n",
       "                 pox           vac           nuc  \n",
       "min    -7.500000e-03 -5.041991e-01 -2.767123e-01  \n",
       "median -7.500000e-03  5.800906e-03 -5.671233e-02  \n",
       "max     8.225000e-01  5.497256e+00  4.224379e+00  \n",
       "mean    2.783390e-17  1.846307e-15 -4.719364e-15  \n",
       "std     7.568267e-02  1.534880e-01  1.523150e-01  "
      ]
     },
     "execution_count": 5,
     "metadata": {},
     "output_type": "execute_result"
    }
   ],
   "source": [
    "yeast_mean_centered = yeast_by_median.apply(lambda column: column - column.mean(), axis=0)\n",
    "print(\"The min, median, max, mean and std when using mean centering:\")\n",
    "yeast_mean_centered.describe().rename({\"50%\": \"median\"}, axis=0).loc[[\"min\", \"median\", \"max\", \"mean\", \"std\"], \"mcg\":]"
   ]
  },
  {
   "cell_type": "code",
   "execution_count": 6,
   "metadata": {
    "scrolled": true
   },
   "outputs": [
    {
     "name": "stdout",
     "output_type": "stream",
     "text": [
      "The min, median, max, mean and std when using standardising:\n"
     ]
    },
    {
     "data": {
      "text/html": [
       "<div>\n",
       "<style scoped>\n",
       "    .dataframe tbody tr th:only-of-type {\n",
       "        vertical-align: middle;\n",
       "    }\n",
       "\n",
       "    .dataframe tbody tr th {\n",
       "        vertical-align: top;\n",
       "    }\n",
       "\n",
       "    .dataframe thead th {\n",
       "        text-align: right;\n",
       "    }\n",
       "</style>\n",
       "<table border=\"1\" class=\"dataframe\">\n",
       "  <thead>\n",
       "    <tr style=\"text-align: right;\">\n",
       "      <th></th>\n",
       "      <th>mcg</th>\n",
       "      <th>gvh</th>\n",
       "      <th>alm</th>\n",
       "      <th>mit</th>\n",
       "      <th>erl</th>\n",
       "      <th>pox</th>\n",
       "      <th>vac</th>\n",
       "      <th>nuc</th>\n",
       "    </tr>\n",
       "  </thead>\n",
       "  <tbody>\n",
       "    <tr>\n",
       "      <th>min</th>\n",
       "      <td>-2.949354e+00</td>\n",
       "      <td>-3.032012e+00</td>\n",
       "      <td>-1.482523e+00</td>\n",
       "      <td>-1.727390e+00</td>\n",
       "      <td>-7.361222e-02</td>\n",
       "      <td>-9.913140e-02</td>\n",
       "      <td>-3.286049e+00</td>\n",
       "      <td>-1.817324e+00</td>\n",
       "    </tr>\n",
       "    <tr>\n",
       "      <th>median</th>\n",
       "      <td>-1.341268e-01</td>\n",
       "      <td>-7.909596e-02</td>\n",
       "      <td>1.918687e-02</td>\n",
       "      <td>-2.681755e-01</td>\n",
       "      <td>-7.361222e-02</td>\n",
       "      <td>-9.913140e-02</td>\n",
       "      <td>3.780662e-02</td>\n",
       "      <td>-3.724614e-01</td>\n",
       "    </tr>\n",
       "    <tr>\n",
       "      <th>max</th>\n",
       "      <td>3.822409e+00</td>\n",
       "      <td>4.104201e+00</td>\n",
       "      <td>3.501812e+01</td>\n",
       "      <td>1.817582e+01</td>\n",
       "      <td>3.270504e+01</td>\n",
       "      <td>1.087141e+01</td>\n",
       "      <td>3.582762e+01</td>\n",
       "      <td>2.774385e+01</td>\n",
       "    </tr>\n",
       "    <tr>\n",
       "      <th>mean</th>\n",
       "      <td>5.850367e-16</td>\n",
       "      <td>-1.911469e-16</td>\n",
       "      <td>2.817827e-16</td>\n",
       "      <td>1.802990e-17</td>\n",
       "      <td>3.727738e-16</td>\n",
       "      <td>4.263399e-16</td>\n",
       "      <td>-1.979175e-16</td>\n",
       "      <td>-4.642139e-16</td>\n",
       "    </tr>\n",
       "    <tr>\n",
       "      <th>std</th>\n",
       "      <td>1.000337e+00</td>\n",
       "      <td>1.000337e+00</td>\n",
       "      <td>1.000337e+00</td>\n",
       "      <td>1.000337e+00</td>\n",
       "      <td>1.000337e+00</td>\n",
       "      <td>1.000337e+00</td>\n",
       "      <td>1.000337e+00</td>\n",
       "      <td>1.000337e+00</td>\n",
       "    </tr>\n",
       "  </tbody>\n",
       "</table>\n",
       "</div>"
      ],
      "text/plain": [
       "                 mcg           gvh           alm           mit           erl  \\\n",
       "min    -2.949354e+00 -3.032012e+00 -1.482523e+00 -1.727390e+00 -7.361222e-02   \n",
       "median -1.341268e-01 -7.909596e-02  1.918687e-02 -2.681755e-01 -7.361222e-02   \n",
       "max     3.822409e+00  4.104201e+00  3.501812e+01  1.817582e+01  3.270504e+01   \n",
       "mean    5.850367e-16 -1.911469e-16  2.817827e-16  1.802990e-17  3.727738e-16   \n",
       "std     1.000337e+00  1.000337e+00  1.000337e+00  1.000337e+00  1.000337e+00   \n",
       "\n",
       "                 pox           vac           nuc  \n",
       "min    -9.913140e-02 -3.286049e+00 -1.817324e+00  \n",
       "median -9.913140e-02  3.780662e-02 -3.724614e-01  \n",
       "max     1.087141e+01  3.582762e+01  2.774385e+01  \n",
       "mean    4.263399e-16 -1.979175e-16 -4.642139e-16  \n",
       "std     1.000337e+00  1.000337e+00  1.000337e+00  "
      ]
     },
     "execution_count": 6,
     "metadata": {},
     "output_type": "execute_result"
    }
   ],
   "source": [
    "scaler = preprocessing.StandardScaler()\n",
    "scaler.fit(yeast_by_median)\n",
    "standardised_yeast = pd.DataFrame(scaler.transform(yeast_by_median), columns=yeast_data.columns)\n",
    "print(\"The min, median, max, mean and std when using standardising:\")\n",
    "standardised_yeast.describe().rename({\"50%\": \"median\"}, axis=0).loc[[\"min\", \"median\", \"max\", \"mean\", \"std\"], \"mcg\":]"
   ]
  },
  {
   "cell_type": "code",
   "execution_count": 7,
   "metadata": {
    "scrolled": true
   },
   "outputs": [
    {
     "name": "stdout",
     "output_type": "stream",
     "text": [
      "KNN when k=5, accuracy score: 0.69\n",
      "KNN when k=10, accuracy score: 0.70\n",
      "Decision Tree, accuracy score: 0.67\n"
     ]
    }
   ],
   "source": [
    "# Comparing Classification Algorithms\n",
    "\n",
    "#create classlabel\n",
    "classlabel = all_yeast[\"Class\"]\n",
    "\n",
    "#split dataset into training set and test set\n",
    "x_train, x_test, y_train, y_test = train_test_split(yeast_data, classlabel, \n",
    "                                                    train_size=0.66, test_size=0.34, random_state=21)\n",
    "\n",
    "#make the trainingse set and test set median inputed and mean centered respectively\n",
    "x_train = x_train.fillna(x_train.median())\n",
    "x_train = x_train.subtract(x_train.mean())\n",
    "x_test = x_test.fillna(x_test.median())\n",
    "x_test = x_test.subtract(x_test.mean())\n",
    "\n",
    "#use KNN when k=5\n",
    "knn5 = neighbors.KNeighborsClassifier(n_neighbors=5)\n",
    "knn5.fit(x_train, y_train)\n",
    "y_pred_knn5 = knn5.predict(x_test)\n",
    "print(f\"KNN when k=5, accuracy score: {accuracy_score(y_test, y_pred_knn5):.2f}\")\n",
    "\n",
    "#use KNN when k=10\n",
    "knn10 = neighbors.KNeighborsClassifier(n_neighbors=10)\n",
    "knn10.fit(x_train, y_train)\n",
    "y_pred_knn10 = knn10.predict(x_test)\n",
    "print(f\"KNN when k=10, accuracy score: {accuracy_score(y_test, y_pred_knn10):.2f}\")\n",
    "\n",
    "#use decision true\n",
    "dt = DecisionTreeClassifier(criterion=\"entropy\", random_state=1, max_depth=3)\n",
    "dt.fit(x_train, y_train)\n",
    "y_pred_dt = dt.predict(x_test)\n",
    "print(f\"Decision Tree, accuracy score: {accuracy_score(y_test, y_pred_dt):.2f}\")"
   ]
  },
  {
   "cell_type": "markdown",
   "metadata": {},
   "source": [
    "Comment on comparing classification algorithms:\n",
    "\n",
    "From the above printed results, clearly KNN with k=10 has the best performance.\n",
    "\n",
    "I chose max_depth to be 3 in the decision tree in order to avoid overfitting."
   ]
  },
  {
   "cell_type": "code",
   "execution_count": 8,
   "metadata": {
    "scrolled": true
   },
   "outputs": [
    {
     "data": {
      "image/png": "[encoded data removed]",
      "text/plain": [
       "<Figure size 432x288 with 1 Axes>"
      ]
     },
     "metadata": {
      "needs_background": "light"
     },
     "output_type": "display_data"
    },
    {
     "name": "stdout",
     "output_type": "stream",
     "text": [
      "The optimal choice of the number of features is: 44\n",
      "The accuracy generated by it is: 0.7267326732673267\n"
     ]
    }
   ],
   "source": [
    "#feature engineering\n",
    "#using interaction term pairs\n",
    "\n",
    "#make a copy of the training set and test set from the split\n",
    "x_train_interaction_pairs = x_train.copy()\n",
    "x_test_interaction_pairs = x_test.copy()\n",
    "\n",
    "#generating new features using interaction term paris\n",
    "for i in range(len(x_train.columns)):\n",
    "    for j in range(i+1, len(x_train.columns)):\n",
    "        x_train_interaction_pairs[f\"{x_train.columns[i]} x {x_train.columns[j]}\"] \\\n",
    "        = x_train.iloc[:,i] * x_train.iloc[:,j]\n",
    "        x_train_interaction_pairs[f\"{yeast_data.columns[i]} / {yeast_data.columns[j]}\"] \\\n",
    "        = x_train.iloc[:,i] / x_train.iloc[:,j]\n",
    "\n",
    "for i in range(len(x_test.columns)):\n",
    "    for j in range(i+1, len(x_test.columns)):\n",
    "        x_test_interaction_pairs[f\"{x_test.columns[i]} x {x_test.columns[j]}\"] \\\n",
    "        = x_test.iloc[:,i] * x_test.iloc[:,j]\n",
    "        x_test_interaction_pairs[f\"{yeast_data.columns[i]} / {yeast_data.columns[j]}\"] \\\n",
    "        = x_test.iloc[:,i] / x_test.iloc[:,j]\n",
    "\n",
    "#discretise data in order to compute mutual information\n",
    "discretised_x_train_interaction_pairs \\\n",
    "= x_train_interaction_pairs.apply(lambda column: pd.cut(column, 3, labels=[\"low\", \"medium\", \"high\"]), axis=0)\n",
    "\n",
    "#compute mutual information in the training set\n",
    "mutual_info_scores = []\n",
    "for column in discretised_x_train_interaction_pairs:\n",
    "    mutual_info_scores.append(metrics.normalized_mutual_info_score(discretised_x_train_interaction_pairs[column], \n",
    "                                                                   y_train, average_method='min'))\n",
    "\n",
    "#put feature names and its normalised mutual information into a series\n",
    "nmi = pd.Series(mutual_info_scores, index=discretised_x_train_interaction_pairs.columns)\n",
    "\n",
    "#experiment with the number of features with highest MI values to be selected\n",
    "numbers_of_paris = np.arange(1, len(x_train_interaction_pairs.columns))\n",
    "acc_interaction_pairs = []\n",
    "for n in numbers_of_paris:\n",
    "    selected_features = nmi.sort_values(ascending=False)[:n].index\n",
    "    x_train_new = x_train_interaction_pairs.loc[:, selected_features]\n",
    "    x_test_new = x_test_interaction_pairs.loc[:, selected_features]\n",
    "\n",
    "    knn10 = neighbors.KNeighborsClassifier(n_neighbors=10)\n",
    "    knn10.fit(x_train_new, y_train)\n",
    "    y_pred_knn10 = knn10.predict(x_test_new)\n",
    "    acc_interaction_pairs.append(accuracy_score(y_test, y_pred_knn10))\n",
    "\n",
    "plt.plot(numbers_of_paris, acc_interaction_pairs)\n",
    "plt.title(\"Accuracy vs Number of Features Selected\")\n",
    "plt.ylabel(\"accuracy\")\n",
    "plt.xlabel(\"number of feature selected\")\n",
    "plt.grid()\n",
    "plt.show()\n",
    "\n",
    "print(f\"The optimal choice of the number of features is: {np.argmax(acc_interaction_pairs)+1}\")\n",
    "print(f\"The accuracy generated by it is: {max(acc_interaction_pairs)}\")"
   ]
  },
  {
   "cell_type": "code",
   "execution_count": 15,
   "metadata": {
    "scrolled": false
   },
   "outputs": [
    {
     "data": {
      "image/png": "[encoded data removed]",
      "text/plain": [
       "<Figure size 432x288 with 1 Axes>"
      ]
     },
     "metadata": {
      "needs_background": "light"
     },
     "output_type": "display_data"
    },
    {
     "name": "stdout",
     "output_type": "stream",
     "text": [
      "The optimal choice of the number of clusters is: 6\n",
      "The accuracy generated by it is: 0.7168316831683168\n"
     ]
    }
   ],
   "source": [
    "#using clustering labels\n",
    "x_train_with_label = x_train.copy()\n",
    "x_test_with_label = x_test.copy()\n",
    "\n",
    "#define a function to be used to assign the instances in the test set to its nearest cluster\n",
    "def find_cluster_label(row):\n",
    "    distances = [np.sqrt(sum(pow(row-center, 2))) for center in km.cluster_centers_]\n",
    "    return np.argmin(distances)\n",
    "\n",
    "#experiment with different choices of clusters used in kmeans\n",
    "acc_clustering_labels = []\n",
    "for k in range(1, 8):\n",
    "    km = KMeans(n_clusters=k)\n",
    "    km.fit(x_train)\n",
    "    \n",
    "    x_train_with_label[\"clusterlabel\"] = km.labels_\n",
    "    x_test_with_label[\"clusterlabel\"] = x_test.apply(find_cluster_label, axis=1)\n",
    "    \n",
    "    knn = neighbors.KNeighborsClassifier(n_neighbors=10)\n",
    "    knn.fit(x_train_with_label, y_train)\n",
    "    y_pred_knn = knn.predict(x_test_with_label)\n",
    "    acc_clustering_labels.append(accuracy_score(y_test, y_pred_knn))\n",
    "\n",
    "plt.plot(np.arange(1, 8), acc_clustering_labels)\n",
    "plt.title(\"Accuracy vs Number of Clusters Used In Kmeans\")\n",
    "plt.xlabel(\"number of clusters\")\n",
    "plt.ylabel(\"accuracy\")\n",
    "plt.grid()\n",
    "plt.show()\n",
    "\n",
    "print(f\"The optimal choice of the number of clusters is: {np.argmax(acc_clustering_labels)+1}\")\n",
    "print(f\"The accuracy generated by it is: {max(acc_clustering_labels)}\")"
   ]
  },
  {
   "cell_type": "markdown",
   "metadata": {},
   "source": [
    "Feature Engineering - Discussion\n",
    "\n",
    "In this section, I used k=10 for KNN because because I found it has better performance after some trials.\n",
    "\n",
    "For the method of interaction term pairs, I generate all the possible combinations and then apply feature selection.\n",
    "I calculate the mutual information and sort the features according to it.\n",
    "In order to figure out how many features to choose, I plot a graph of accuracies generated by differenct choices of number of features.\n",
    "And I find that the optimal choice is to choose 44 features, which gives me an accuracy of around 72.6%.\n",
    "Based on this observation, it could be said that feature selecation and generation could increase the accuracy. But the gain is not much, because the original accuracy is 70%.\n",
    "\n",
    "For the method of clustering labels, I first perform kmeans clustering on the training set and then assign the instances in the test set to its nearest cluster.\n",
    "In order to find the optimal choice of k for kmeans, I plot a graph again.\n",
    "And the graph tells me the optimal choice for k is 6, which gives me around 71% accuracy. Compared with the original 70% accuracy, it does not increase very much, but at least increase slightly anyway.\n",
    "\n",
    "The graphs and results may change each time it runs. The data in the above discussion is from the time that I run it.\n",
    "I print the highest accuracy and the choice of parameter that generate it at the bottom of the graphs."
   ]
  },
  {
   "cell_type": "code",
   "execution_count": null,
   "metadata": {},
   "outputs": [],
   "source": []
  }
 ],
 "metadata": {
  "kernelspec": {
   "display_name": "Python 3",
   "language": "python",
   "name": "python3"
  },
  "language_info": {
   "codemirror_mode": {
    "name": "ipython",
    "version": 3
   },
   "file_extension": ".py",
   "mimetype": "text/x-python",
   "name": "python",
   "nbconvert_exporter": "python",
   "pygments_lexer": "ipython3",
   "version": "3.7.3"
  }
 },
 "nbformat": 4,
 "nbformat_minor": 2
}
